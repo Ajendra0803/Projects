{
 "cells": [
  {
   "cell_type": "markdown",
   "metadata": {},
   "source": [
    "# <center> Movie Recommendation Engine and EDA"
   ]
  },
  {
   "cell_type": "code",
   "execution_count": null,
   "metadata": {
    "_cell_guid": "b1076dfc-b9ad-4769-8c92-a6c4dae69d19",
    "_kg_hide-input": true,
    "_kg_hide-output": true,
    "_uuid": "8f2839f25d086af736a60e9eeb907d3b93b6e0e5",
    "execution": {
     "iopub.execute_input": "2022-01-28T18:59:19.041941Z",
     "iopub.status.busy": "2022-01-28T18:59:19.041076Z",
     "iopub.status.idle": "2022-01-28T18:59:31.768192Z",
     "shell.execute_reply": "2022-01-28T18:59:31.767159Z",
     "shell.execute_reply.started": "2022-01-28T18:59:19.041844Z"
    }
   },
   "outputs": [],
   "source": [
    "import os\n",
    "import plotly.express as px\n",
    "import numpy as np\n",
    "from datetime import datetime\n",
    "import pandas as pd\n",
    "import plotly.graph_objects as go\n",
    "import seaborn as sns\n",
    "import re\n",
    "from sklearn.neighbors import NearestNeighbors\n",
    "import random\n",
    "from mlxtend.frequent_patterns import apriori\n",
    "from mlxtend.frequent_patterns import association_rules\n",
    "for dirname, _, filenames in os.walk('/kaggle/input'):\n",
    "    for filename in filenames:\n",
    "        print(os.path.join(dirname, filename))\n",
    "!pip install mlxtend"
   ]
  },
  {
   "cell_type": "code",
   "execution_count": null,
   "metadata": {
    "execution": {
     "iopub.execute_input": "2022-01-14T17:01:52.406234Z",
     "iopub.status.busy": "2022-01-14T17:01:52.405907Z",
     "iopub.status.idle": "2022-01-14T17:01:52.549762Z",
     "shell.execute_reply": "2022-01-14T17:01:52.548831Z",
     "shell.execute_reply.started": "2022-01-14T17:01:52.406204Z"
    }
   },
   "outputs": [],
   "source": [
    "dataNames = pd.read_csv(r\"C:\\Users\\Ajend\\OneDrive\\Documents\\movies.csv\")\n",
    "dataRatings = pd.read_csv(r\"C:\\Users\\Ajend\\OneDrive\\Documents\\ratings.csv\")"
   ]
  },
  {
   "cell_type": "code",
   "execution_count": null,
   "metadata": {
    "execution": {
     "iopub.execute_input": "2022-01-14T17:01:52.551268Z",
     "iopub.status.busy": "2022-01-14T17:01:52.551021Z",
     "iopub.status.idle": "2022-01-14T17:01:52.572641Z",
     "shell.execute_reply": "2022-01-14T17:01:52.572084Z",
     "shell.execute_reply.started": "2022-01-14T17:01:52.551239Z"
    }
   },
   "outputs": [],
   "source": [
    "dataRatings.head()  # First dataset "
   ]
  },
  {
   "cell_type": "code",
   "execution_count": null,
   "metadata": {
    "execution": {
     "iopub.execute_input": "2022-01-14T17:01:52.574536Z",
     "iopub.status.busy": "2022-01-14T17:01:52.574316Z",
     "iopub.status.idle": "2022-01-14T17:01:52.583885Z",
     "shell.execute_reply": "2022-01-14T17:01:52.583336Z",
     "shell.execute_reply.started": "2022-01-14T17:01:52.57451Z"
    }
   },
   "outputs": [],
   "source": [
    "dataNames.head()  # Second dataset"
   ]
  },
  {
   "cell_type": "code",
   "execution_count": null,
   "metadata": {
    "execution": {
     "iopub.execute_input": "2022-01-14T17:01:52.585557Z",
     "iopub.status.busy": "2022-01-14T17:01:52.584767Z",
     "iopub.status.idle": "2022-01-14T17:01:52.633479Z",
     "shell.execute_reply": "2022-01-14T17:01:52.63293Z",
     "shell.execute_reply.started": "2022-01-14T17:01:52.585523Z"
    }
   },
   "outputs": [],
   "source": [
    "# Inner join of two datasets (common column is movieId)\n",
    "data = pd.merge(dataRatings, dataNames, how='inner')\n",
    "data.head()"
   ]
  },
  {
   "cell_type": "code",
   "execution_count": null,
   "metadata": {
    "execution": {
     "iopub.execute_input": "2022-01-14T17:01:52.634836Z",
     "iopub.status.busy": "2022-01-14T17:01:52.634522Z",
     "iopub.status.idle": "2022-01-14T17:01:52.659507Z",
     "shell.execute_reply": "2022-01-14T17:01:52.658971Z",
     "shell.execute_reply.started": "2022-01-14T17:01:52.634809Z"
    }
   },
   "outputs": [],
   "source": [
    "# Number of Users who rated at least one movie:\n",
    "print(\"Number of Users who rated at least one move: \", data.userId.nunique())\n",
    "print(\"-\"*25)\n",
    "\n",
    "# Number of Movies in the dataset:\n",
    "print(\"Number of Movies in the dataset:\", data.title.nunique())\n",
    "print(\"-\"*25)\n",
    "\n",
    "# Unique of Rating points in the dataset:\n",
    "print(\"Unique Rating points:\", data.rating.unique())"
   ]
  },
  {
   "cell_type": "markdown",
   "metadata": {},
   "source": [
    "# Creating new Features and Data Preprocessing\n"
   ]
  },
  {
   "cell_type": "markdown",
   "metadata": {},
   "source": [
    "**In this step, I will create new features for more detailed EDA and then, I will prepare the dataset for further steps.**"
   ]
  },
  {
   "cell_type": "code",
   "execution_count": null,
   "metadata": {
    "execution": {
     "iopub.execute_input": "2022-01-14T17:01:52.661698Z",
     "iopub.status.busy": "2022-01-14T17:01:52.661138Z",
     "iopub.status.idle": "2022-01-14T17:01:53.03992Z",
     "shell.execute_reply": "2022-01-14T17:01:53.03916Z",
     "shell.execute_reply.started": "2022-01-14T17:01:52.661655Z"
    }
   },
   "outputs": [],
   "source": [
    "# Extracting movie release years into one column\n",
    "data['movie_year'] = data.title.str.extract('.*\\((.*)\\).*')\n",
    "data.head()"
   ]
  },
  {
   "cell_type": "markdown",
   "metadata": {},
   "source": [
    "**From now on, we can find the movie years on the movie_year column**"
   ]
  },
  {
   "cell_type": "code",
   "execution_count": null,
   "metadata": {
    "execution": {
     "iopub.execute_input": "2022-01-14T17:01:53.041267Z",
     "iopub.status.busy": "2022-01-14T17:01:53.041041Z",
     "iopub.status.idle": "2022-01-14T17:01:53.529789Z",
     "shell.execute_reply": "2022-01-14T17:01:53.528997Z",
     "shell.execute_reply.started": "2022-01-14T17:01:53.041239Z"
    }
   },
   "outputs": [],
   "source": [
    "# Removing year from the movie titles\n",
    "data['title'] = data.title.str.split('(').str[0].str[:-1]\n",
    "data.head()"
   ]
  },
  {
   "cell_type": "markdown",
   "metadata": {},
   "source": [
    "**timestamp column has not readable data points. We cannot use this values for our analysis. Hence, I will convert this values into Readable format.**"
   ]
  },
  {
   "cell_type": "code",
   "execution_count": null,
   "metadata": {
    "execution": {
     "iopub.execute_input": "2022-01-14T17:01:53.531392Z",
     "iopub.status.busy": "2022-01-14T17:01:53.531162Z",
     "iopub.status.idle": "2022-01-14T17:02:03.51729Z",
     "shell.execute_reply": "2022-01-14T17:02:03.516425Z",
     "shell.execute_reply.started": "2022-01-14T17:01:53.531363Z"
    }
   },
   "outputs": [],
   "source": [
    "def UNIX_to_Readable(df):\n",
    "    return pd.to_datetime(datetime.fromtimestamp(df).strftime('%Y-%m-%d %H:%M:%S'))\n",
    "\n",
    "\n",
    "# Converting Unix date-format to readable format\n",
    "data.timestamp = data.timestamp.apply(UNIX_to_Readable)\n",
    "data.head()"
   ]
  },
  {
   "cell_type": "code",
   "execution_count": null,
   "metadata": {
    "execution": {
     "iopub.execute_input": "2022-01-14T17:02:03.521454Z",
     "iopub.status.busy": "2022-01-14T17:02:03.521219Z",
     "iopub.status.idle": "2022-01-14T17:02:03.529451Z",
     "shell.execute_reply": "2022-01-14T17:02:03.528599Z",
     "shell.execute_reply.started": "2022-01-14T17:02:03.521426Z"
    }
   },
   "outputs": [],
   "source": [
    "# Removing decimal values to the ceiling value to decrease number of rating classes\n",
    "data.rating = np.ceil(data.rating)\n",
    "print(\"Unique Rating Points:\", data.rating.unique())"
   ]
  },
  {
   "cell_type": "code",
   "execution_count": null,
   "metadata": {
    "_kg_hide-input": true,
    "execution": {
     "iopub.execute_input": "2022-01-14T17:02:03.531136Z",
     "iopub.status.busy": "2022-01-14T17:02:03.530822Z",
     "iopub.status.idle": "2022-01-14T17:02:04.653524Z",
     "shell.execute_reply": "2022-01-14T17:02:04.652702Z",
     "shell.execute_reply.started": "2022-01-14T17:02:03.531096Z"
    }
   },
   "outputs": [],
   "source": [
    "_ = data.title.value_counts()\n",
    "fig = px.histogram(_, x=_, opacity=0.85, marginal='box',\n",
    "                   labels={\n",
    "                       'x': 'Number of Ratings taken'})\n",
    "fig.update_traces(marker=dict(line=dict(color='#000000', width=1)))\n",
    "fig.update_layout(title_text='Distribution of the Number of Ratings taken by the Movies',\n",
    "                  title_x=0.5, title_font=dict(size=20))\n",
    "fig.update_layout({'plot_bgcolor': 'rgba(0, 0, 0, 0)'})\n",
    "fig.show()"
   ]
  },
  {
   "cell_type": "code",
   "execution_count": null,
   "metadata": {
    "execution": {
     "iopub.execute_input": "2022-01-14T17:02:04.655449Z",
     "iopub.status.busy": "2022-01-14T17:02:04.654812Z",
     "iopub.status.idle": "2022-01-14T17:02:04.70711Z",
     "shell.execute_reply": "2022-01-14T17:02:04.706181Z",
     "shell.execute_reply.started": "2022-01-14T17:02:04.655419Z"
    }
   },
   "outputs": [],
   "source": [
    "# Removing movies that rated less than 10\n",
    "movieFrequency_greater_10 = data['movieId'].value_counts()[data['movieId'].value_counts() >= 10].index\n",
    "data = data[data.movieId.isin(movieFrequency_greater_10)]\n",
    "\n",
    "print(\"Minimum Number of Rated Movies after Drop:\", data.title.value_counts().nsmallest(5))   # So we achieved to obtain number of ratings taken by users minimum 10"
   ]
  },
  {
   "cell_type": "markdown",
   "metadata": {},
   "source": [
    "# Exploratory Data Analysis"
   ]
  },
  {
   "cell_type": "markdown",
   "metadata": {},
   "source": [
    "# Frequency of the Ratings\n"
   ]
  },
  {
   "cell_type": "code",
   "execution_count": null,
   "metadata": {
    "_kg_hide-input": true,
    "execution": {
     "iopub.execute_input": "2022-01-14T17:02:04.708696Z",
     "iopub.status.busy": "2022-01-14T17:02:04.708466Z",
     "iopub.status.idle": "2022-01-14T17:02:04.813931Z",
     "shell.execute_reply": "2022-01-14T17:02:04.813022Z",
     "shell.execute_reply.started": "2022-01-14T17:02:04.708668Z"
    }
   },
   "outputs": [],
   "source": [
    "rating_val_count = data.rating.value_counts()\n",
    "fig = px.bar(rating_val_count, x=rating_val_count.index, y=rating_val_count, text=rating_val_count,\n",
    "             labels={\n",
    "                 \"index\": \"Ratings\",\n",
    "                 'y': 'Number of Ratings'},\n",
    "             color=rating_val_count\n",
    "             )\n",
    "fig.update_traces(textposition='outside')\n",
    "fig.update_layout(title_text='Frequency of the Ratings',\n",
    "                  title_x=0.5, title_font=dict(size=24))\n",
    "fig.update_traces(marker=dict(line=dict(color='#000000', width=2)))\n",
    "fig.update_layout({'plot_bgcolor': 'rgba(0, 0, 0, 0)'})\n",
    "fig.show()"
   ]
  },
  {
   "cell_type": "markdown",
   "metadata": {},
   "source": [
    "**According to figure above, most of the users rated movies 4.**"
   ]
  },
  {
   "cell_type": "markdown",
   "metadata": {},
   "source": [
    "# Top Frequent the Movie Genres"
   ]
  },
  {
   "cell_type": "code",
   "execution_count": null,
   "metadata": {
    "_kg_hide-input": true,
    "execution": {
     "iopub.execute_input": "2022-01-14T17:02:04.815757Z",
     "iopub.status.busy": "2022-01-14T17:02:04.815379Z",
     "iopub.status.idle": "2022-01-14T17:02:05.313013Z",
     "shell.execute_reply": "2022-01-14T17:02:05.312186Z",
     "shell.execute_reply.started": "2022-01-14T17:02:04.815716Z"
    }
   },
   "outputs": [],
   "source": [
    "genres_value_counts = data['genres'].str.split('|', expand=True).stack().value_counts()\n",
    "fig = px.bar(genres_value_counts, x=genres_value_counts.index, y=genres_value_counts, text=genres_value_counts,\n",
    "             labels={\n",
    "                 \"index\": \"Genres\",\n",
    "                 'y': 'Frequency'},\n",
    "             color=genres_value_counts\n",
    "             )\n",
    "fig.update_traces(textposition='outside')\n",
    "fig.update_layout(title_text='Top Frequent the Movie Genres',\n",
    "                  title_x=0.5, title_font=dict(size=24))\n",
    "fig.update_traces(marker=dict(line=dict(color='#000000', width=2)))\n",
    "fig.update_layout({'plot_bgcolor': 'rgba(0, 0, 0, 0)'})\n",
    "fig.show()"
   ]
  },
  {
   "cell_type": "markdown",
   "metadata": {},
   "source": [
    "**Drama, Comedy and Action genres are the top frequent genres according to our dataset. These genres are rated most of the users.**"
   ]
  },
  {
   "cell_type": "markdown",
   "metadata": {},
   "source": [
    "# Number of Movies for each Genre"
   ]
  },
  {
   "cell_type": "code",
   "execution_count": null,
   "metadata": {
    "_kg_hide-input": true,
    "execution": {
     "iopub.execute_input": "2022-01-14T17:02:05.314716Z",
     "iopub.status.busy": "2022-01-14T17:02:05.314421Z",
     "iopub.status.idle": "2022-01-14T17:02:05.41227Z",
     "shell.execute_reply": "2022-01-14T17:02:05.411408Z",
     "shell.execute_reply.started": "2022-01-14T17:02:05.314677Z"
    }
   },
   "outputs": [],
   "source": [
    "unique_movies = data.drop_duplicates('title')\n",
    "unique_movies = unique_movies['genres'].str.split('|', expand=True).stack().value_counts()\n",
    "fig = px.bar(unique_movies, x=unique_movies.index, y=unique_movies, text=unique_movies,\n",
    "             labels={\n",
    "                 \"index\": \"Genres\",\n",
    "                 'y': 'Number of Movies'},\n",
    "             color=unique_movies\n",
    "             )\n",
    "fig.update_traces(textposition='outside')\n",
    "fig.update_layout(title_text='Number of Movies for each Genre',\n",
    "                  title_x=0.5, title_font=dict(size=24))\n",
    "fig.update_traces(marker=dict(line=dict(color='#000000', width=2)))\n",
    "fig.update_layout({'plot_bgcolor': 'rgba(0, 0, 0, 0)'})\n",
    "fig.show()"
   ]
  },
  {
   "cell_type": "markdown",
   "metadata": {},
   "source": [
    "# Year Difference Between Release Date of the Movie and the Rating Date\n"
   ]
  },
  {
   "cell_type": "code",
   "execution_count": null,
   "metadata": {
    "_kg_hide-input": true,
    "execution": {
     "iopub.execute_input": "2022-01-14T17:02:05.414107Z",
     "iopub.status.busy": "2022-01-14T17:02:05.413787Z",
     "iopub.status.idle": "2022-01-14T17:02:05.867193Z",
     "shell.execute_reply": "2022-01-14T17:02:05.866323Z",
     "shell.execute_reply.started": "2022-01-14T17:02:05.414066Z"
    }
   },
   "outputs": [],
   "source": [
    "data['timeDifferenceAfterRelease'] = data.timestamp.dt.year - data.movie_year.astype(int)\n",
    "fig = px.histogram(data, x='timeDifferenceAfterRelease', opacity=0.85, marginal='box',\n",
    "                   labels={\n",
    "                       'timeDifferenceAfterRelease': 'Time Difference After Release (years)'}\n",
    "                   )\n",
    "fig.update_traces(marker=dict(line=dict(color='#000000', width=1)))\n",
    "fig.update_layout(title_text='Year Difference Between Release Date of the Movie and the Rating Date',\n",
    "                  title_x=0.5, title_font=dict(size=20))\n",
    "fig.update_layout({'plot_bgcolor': 'rgba(0, 0, 0, 0)'})\n",
    "fig.show()"
   ]
  },
  {
   "cell_type": "markdown",
   "metadata": {},
   "source": [
    "# Number of Ratings given by the Users Monthly\n"
   ]
  },
  {
   "cell_type": "code",
   "execution_count": null,
   "metadata": {
    "_kg_hide-input": true,
    "execution": {
     "iopub.execute_input": "2022-01-14T17:02:05.868345Z",
     "iopub.status.busy": "2022-01-14T17:02:05.868119Z",
     "iopub.status.idle": "2022-01-14T17:02:06.032665Z",
     "shell.execute_reply": "2022-01-14T17:02:06.031793Z",
     "shell.execute_reply.started": "2022-01-14T17:02:05.868319Z"
    }
   },
   "outputs": [],
   "source": [
    "num_of_rating_weekly = data.resample('m', on='timestamp').size()\n",
    "fig = px.line(num_of_rating_weekly, x=num_of_rating_weekly.index, y=num_of_rating_weekly,\n",
    "              labels={'y': 'Number of Ratings given',\n",
    "                      'timestamp': 'Months'})\n",
    "fig.update_layout(title_text='Number of Ratings given by the Users Monthly',\n",
    "                  title_x=0.5, title_font=dict(size=20))\n",
    "fig.update_layout({'plot_bgcolor': 'rgba(0, 0, 0, 0)'})\n",
    "fig.update_traces(line=dict(width=3))\n",
    "fig.show()"
   ]
  },
  {
   "cell_type": "markdown",
   "metadata": {},
   "source": [
    "# Number of Movies Released each Year\n"
   ]
  },
  {
   "cell_type": "code",
   "execution_count": null,
   "metadata": {
    "_kg_hide-input": true,
    "execution": {
     "iopub.execute_input": "2022-01-14T17:02:06.034257Z",
     "iopub.status.busy": "2022-01-14T17:02:06.033921Z",
     "iopub.status.idle": "2022-01-14T17:02:06.129637Z",
     "shell.execute_reply": "2022-01-14T17:02:06.128703Z",
     "shell.execute_reply.started": "2022-01-14T17:02:06.034205Z"
    }
   },
   "outputs": [],
   "source": [
    "unique_title = data.drop_duplicates(['title'])  # Dropping duplicate movie titles\n",
    "unique_title = unique_title.movie_year.value_counts().reset_index().sort_values('index')  # Count of each years movie frequency\n",
    "fig = px.line(unique_title, x='index', y='movie_year',\n",
    "              labels={\n",
    "                  \"index\": \"Movie Release Year\",\n",
    "                  'movie_year': 'Number of Movies Released'})\n",
    "fig.update_layout(title_text='Number of Movies Released each Year',\n",
    "                  title_x=0.5, title_font=dict(size=24))\n",
    "fig.update_traces(marker=dict(line=dict(color='#000000', width=2)))\n",
    "fig.update_layout({'plot_bgcolor': 'rgba(0, 0, 0, 0)'})\n",
    "fig.show()"
   ]
  },
  {
   "cell_type": "markdown",
   "metadata": {},
   "source": [
    "# Top 25 Years with the most Number of Movies Released\n"
   ]
  },
  {
   "cell_type": "code",
   "execution_count": null,
   "metadata": {
    "_kg_hide-input": true,
    "execution": {
     "iopub.execute_input": "2022-01-14T17:02:06.131611Z",
     "iopub.status.busy": "2022-01-14T17:02:06.131206Z",
     "iopub.status.idle": "2022-01-14T17:02:06.22437Z",
     "shell.execute_reply": "2022-01-14T17:02:06.223792Z",
     "shell.execute_reply.started": "2022-01-14T17:02:06.131566Z"
    }
   },
   "outputs": [],
   "source": [
    "unique_title = data.drop_duplicates(['title'])  # Dropping duplicate movie titles\n",
    "unique_title = unique_title.movie_year.value_counts().head(25)  # Count of each years movie frequency\n",
    "fig = px.bar(unique_title, x=unique_title.index, y=unique_title, text=unique_title,\n",
    "             labels={\n",
    "                 \"index\": \"Movie Release Year\",\n",
    "                 'y': 'Number of Movies Released'},\n",
    "             color=unique_title\n",
    "             )\n",
    "fig.update_traces(textposition='outside')\n",
    "fig.update_layout(title_text='Top 25 Years with the most Number of Movies Released',\n",
    "                  title_x=0.5, title_font=dict(size=24))\n",
    "fig.update_traces(marker=dict(line=dict(color='#000000', width=2)))\n",
    "fig.update_layout({'plot_bgcolor': 'rgba(0, 0, 0, 0)'})\n",
    "fig.show()\n"
   ]
  },
  {
   "cell_type": "code",
   "execution_count": null,
   "metadata": {
    "execution": {
     "iopub.execute_input": "2022-01-14T17:02:06.226114Z",
     "iopub.status.busy": "2022-01-14T17:02:06.225797Z",
     "iopub.status.idle": "2022-01-14T17:02:06.283407Z",
     "shell.execute_reply": "2022-01-14T17:02:06.282628Z",
     "shell.execute_reply.started": "2022-01-14T17:02:06.226074Z"
    }
   },
   "outputs": [],
   "source": [
    "genre_vs_rating = data.groupby(['genres', 'rating']).size().unstack().fillna(0)\n",
    "year_vs_rating = data.groupby(['movie_year', 'rating']).size().unstack().fillna(0)\n",
    "movie_vs_rating = data.groupby(['title', 'rating']).size().unstack().fillna(0)"
   ]
  },
  {
   "cell_type": "code",
   "execution_count": null,
   "metadata": {
    "execution": {
     "iopub.execute_input": "2022-01-14T17:02:06.285698Z",
     "iopub.status.busy": "2022-01-14T17:02:06.284867Z",
     "iopub.status.idle": "2022-01-14T17:02:06.770684Z",
     "shell.execute_reply": "2022-01-14T17:02:06.770077Z",
     "shell.execute_reply.started": "2022-01-14T17:02:06.285652Z"
    }
   },
   "outputs": [],
   "source": [
    "# Let's calculate the Weighted Average for dataframe rows\n",
    "def Weighted_Average(df):\n",
    "    x = []\n",
    "    for i in range(0, df.shape[0]):\n",
    "        x.append((np.average(df.iloc[i].index, weights=df.iloc[i].values, axis=0)).round(2))\n",
    "    return x\n",
    "\n",
    "# Weighted Average calculation for each movie_vs_rating rows\n",
    "movie_vs_rating['weightedAverage'] = Weighted_Average(movie_vs_rating)\n",
    "movie_vs_rating.sort_values('weightedAverage', ascending=False).head()\n",
    "\n",
    "# Weighted Average calculation for each year_vs_rating rows\n",
    "year_vs_rating['weightedAverage'] = Weighted_Average(year_vs_rating)\n",
    "\n",
    "# Weighted Average calculation for each genre_vs_rating rows\n",
    "genre_vs_rating['weightedAverage'] = Weighted_Average(genre_vs_rating)"
   ]
  },
  {
   "cell_type": "markdown",
   "metadata": {},
   "source": [
    "# Top 15 Movie with the highest Weighted Averages\n"
   ]
  },
  {
   "cell_type": "code",
   "execution_count": null,
   "metadata": {
    "_kg_hide-input": true,
    "execution": {
     "iopub.execute_input": "2022-01-14T17:02:06.77294Z",
     "iopub.status.busy": "2022-01-14T17:02:06.772084Z",
     "iopub.status.idle": "2022-01-14T17:02:06.850684Z",
     "shell.execute_reply": "2022-01-14T17:02:06.84989Z",
     "shell.execute_reply.started": "2022-01-14T17:02:06.772893Z"
    }
   },
   "outputs": [],
   "source": [
    "fig = px.bar(movie_vs_rating, x=movie_vs_rating['weightedAverage'].nlargest(15).index,\n",
    "             y=movie_vs_rating['weightedAverage'].nlargest(15),\n",
    "             text=movie_vs_rating['weightedAverage'].nlargest(15),\n",
    "             labels={\n",
    "                 \"x\": \"Movies\",\n",
    "                 'y': 'Weighted Rating Averages'},\n",
    "             color=movie_vs_rating['weightedAverage'].nlargest(15)\n",
    "             )\n",
    "fig.update_traces(textposition='outside')\n",
    "fig.update_layout(title_text='Top 15 Movie with the highest Weighted Averages',\n",
    "                  title_x=0.5, title_font=dict(size=24))\n",
    "fig.update_traces(marker=dict(line=dict(color='#000000', width=2)))\n",
    "fig.update_layout({'plot_bgcolor': 'rgba(0, 0, 0, 0)'})\n",
    "fig.show()"
   ]
  },
  {
   "cell_type": "markdown",
   "metadata": {},
   "source": [
    "# Top 15 Movie with the smallest Weighted Averages\n"
   ]
  },
  {
   "cell_type": "code",
   "execution_count": null,
   "metadata": {
    "_kg_hide-input": true,
    "execution": {
     "iopub.execute_input": "2022-01-14T17:02:06.852152Z",
     "iopub.status.busy": "2022-01-14T17:02:06.851838Z",
     "iopub.status.idle": "2022-01-14T17:02:06.931821Z",
     "shell.execute_reply": "2022-01-14T17:02:06.930998Z",
     "shell.execute_reply.started": "2022-01-14T17:02:06.852118Z"
    }
   },
   "outputs": [],
   "source": [
    "fig = px.bar(movie_vs_rating, x=movie_vs_rating['weightedAverage'].nsmallest(15).index,\n",
    "             y=movie_vs_rating['weightedAverage'].nsmallest(15),\n",
    "             text=movie_vs_rating['weightedAverage'].nsmallest(15),\n",
    "             labels={\n",
    "                 \"x\": \"Movies\",\n",
    "                 'y': 'Weighted Rating Averages'},\n",
    "             color=movie_vs_rating['weightedAverage'].nsmallest(15)\n",
    "             )\n",
    "fig.update_traces(textposition='outside')\n",
    "fig.update_layout(title_text='Top 15 Movie with the smallest Weighted Averages',\n",
    "                  title_x=0.5, title_font=dict(size=24))\n",
    "fig.update_traces(marker=dict(line=dict(color='#000000', width=2)))\n",
    "fig.update_layout({'plot_bgcolor': 'rgba(0, 0, 0, 0)'})\n",
    "fig.show()"
   ]
  },
  {
   "cell_type": "markdown",
   "metadata": {},
   "source": [
    "# Top 15 Years with the highest Weighted Averages\n"
   ]
  },
  {
   "cell_type": "code",
   "execution_count": null,
   "metadata": {
    "_kg_hide-input": true,
    "execution": {
     "iopub.execute_input": "2022-01-14T17:02:06.933197Z",
     "iopub.status.busy": "2022-01-14T17:02:06.932986Z",
     "iopub.status.idle": "2022-01-14T17:02:07.010606Z",
     "shell.execute_reply": "2022-01-14T17:02:07.009676Z",
     "shell.execute_reply.started": "2022-01-14T17:02:06.933156Z"
    }
   },
   "outputs": [],
   "source": [
    "fig = px.bar(year_vs_rating, x=year_vs_rating['weightedAverage'].nlargest(15).index,\n",
    "             y=year_vs_rating['weightedAverage'].nlargest(15),\n",
    "             text=year_vs_rating['weightedAverage'].nlargest(15),\n",
    "             labels={\n",
    "                 \"x\": \"Years\",\n",
    "                 'y': 'Weighted Rating Averages'},\n",
    "             color=year_vs_rating['weightedAverage'].nlargest(15)\n",
    "             )\n",
    "fig.update_traces(textposition='outside')\n",
    "fig.update_layout(title_text='Top 15 Years with the highest Weighted Averages',\n",
    "                  title_x=0.5, title_font=dict(size=24))\n",
    "fig.update_traces(marker=dict(line=dict(color='#000000', width=2)))\n",
    "fig.update_layout({'plot_bgcolor': 'rgba(0, 0, 0, 0)'})\n",
    "fig.show()"
   ]
  },
  {
   "cell_type": "markdown",
   "metadata": {},
   "source": [
    "# Top 15 Years with the smallest Weighted Averages\n"
   ]
  },
  {
   "cell_type": "code",
   "execution_count": null,
   "metadata": {
    "_kg_hide-input": true,
    "execution": {
     "iopub.execute_input": "2022-01-14T17:02:07.012095Z",
     "iopub.status.busy": "2022-01-14T17:02:07.011877Z",
     "iopub.status.idle": "2022-01-14T17:02:07.091084Z",
     "shell.execute_reply": "2022-01-14T17:02:07.090519Z",
     "shell.execute_reply.started": "2022-01-14T17:02:07.012069Z"
    }
   },
   "outputs": [],
   "source": [
    "fig = px.bar(year_vs_rating, x=year_vs_rating['weightedAverage'].nsmallest(15).index,\n",
    "             y=year_vs_rating['weightedAverage'].nsmallest(15),\n",
    "             text=year_vs_rating['weightedAverage'].nsmallest(15),\n",
    "             labels={\n",
    "                 \"x\": \"Years\",\n",
    "                 'y': 'Weighted Rating Averages'},\n",
    "             color=year_vs_rating['weightedAverage'].nsmallest(15)\n",
    "             )\n",
    "fig.update_traces(textposition='outside')\n",
    "fig.update_layout(title_text='Top 15 Years with the smallest Weighted Averages',\n",
    "                  title_x=0.5, title_font=dict(size=24))\n",
    "fig.update_traces(marker=dict(line=dict(color='#000000', width=2)))\n",
    "fig.update_layout({'plot_bgcolor': 'rgba(0, 0, 0, 0)'})\n",
    "fig.show()"
   ]
  },
  {
   "cell_type": "markdown",
   "metadata": {},
   "source": [
    "# Top 15 Genres with the highest Weighted Averages\n"
   ]
  },
  {
   "cell_type": "code",
   "execution_count": null,
   "metadata": {
    "_kg_hide-input": true,
    "execution": {
     "iopub.execute_input": "2022-01-14T17:02:07.092424Z",
     "iopub.status.busy": "2022-01-14T17:02:07.092105Z",
     "iopub.status.idle": "2022-01-14T17:02:07.169963Z",
     "shell.execute_reply": "2022-01-14T17:02:07.169318Z",
     "shell.execute_reply.started": "2022-01-14T17:02:07.092397Z"
    }
   },
   "outputs": [],
   "source": [
    "fig = px.bar(genre_vs_rating, x=genre_vs_rating['weightedAverage'].nlargest(15).index,\n",
    "             y=genre_vs_rating['weightedAverage'].nlargest(15),\n",
    "             text=genre_vs_rating['weightedAverage'].nlargest(15),\n",
    "             labels={\n",
    "                 \"x\": \"Genres\",\n",
    "                 'y': 'Weighted Rating Averages'},\n",
    "             color=genre_vs_rating['weightedAverage'].nlargest(15)\n",
    "             )\n",
    "fig.update_traces(textposition='outside')\n",
    "fig.update_layout(title_text='Top 15 Genres with the highest Weighted Averages',\n",
    "                  title_x=0.5, title_font=dict(size=24))\n",
    "fig.update_traces(marker=dict(line=dict(color='#000000', width=2)))\n",
    "fig.update_layout({'plot_bgcolor': 'rgba(0, 0, 0, 0)'})\n",
    "fig.show()"
   ]
  },
  {
   "cell_type": "markdown",
   "metadata": {},
   "source": [
    "# Top 15 Genres with the smallest Weighted Averages\n"
   ]
  },
  {
   "cell_type": "code",
   "execution_count": null,
   "metadata": {
    "_kg_hide-input": true,
    "execution": {
     "iopub.execute_input": "2022-01-14T17:02:07.171596Z",
     "iopub.status.busy": "2022-01-14T17:02:07.170912Z",
     "iopub.status.idle": "2022-01-14T17:02:07.248594Z",
     "shell.execute_reply": "2022-01-14T17:02:07.2477Z",
     "shell.execute_reply.started": "2022-01-14T17:02:07.171552Z"
    }
   },
   "outputs": [],
   "source": [
    "fig = px.bar(genre_vs_rating, x=genre_vs_rating['weightedAverage'].nsmallest(15).index,\n",
    "             y=genre_vs_rating['weightedAverage'].nsmallest(15),\n",
    "             text=genre_vs_rating['weightedAverage'].nsmallest(15),\n",
    "             labels={\n",
    "                 \"x\": \"Genres\",\n",
    "                 'y': 'Weighted Rating Averages'},\n",
    "             color=genre_vs_rating['weightedAverage'].nsmallest(15)\n",
    "             )\n",
    "fig.update_traces(textposition='outside')\n",
    "fig.update_layout(title_text='Top 15 Genres with the smallest Weighted Averages',\n",
    "                  title_x=0.5, title_font=dict(size=24))\n",
    "fig.update_traces(marker=dict(line=dict(color='#000000', width=2)))\n",
    "fig.update_layout({'plot_bgcolor': 'rgba(0, 0, 0, 0)'})\n",
    "fig.show()"
   ]
  },
  {
   "cell_type": "code",
   "execution_count": null,
   "metadata": {
    "execution": {
     "iopub.execute_input": "2022-01-14T17:02:07.253915Z",
     "iopub.status.busy": "2022-01-14T17:02:07.253692Z",
     "iopub.status.idle": "2022-01-14T17:02:07.308841Z",
     "shell.execute_reply": "2022-01-14T17:02:07.307985Z",
     "shell.execute_reply.started": "2022-01-14T17:02:07.253889Z"
    }
   },
   "outputs": [],
   "source": [
    "# Creating a new DataFrame for unique movies with their weightedAverages and Genres\n",
    "_ = data.merge(movie_vs_rating.reset_index()).drop_duplicates('title')[['title', 'genres', 'weightedAverage']]\n",
    "_.head()"
   ]
  },
  {
   "cell_type": "markdown",
   "metadata": {},
   "source": [
    "# Top 15 Drama Movies with the largest Weighted Averages\n"
   ]
  },
  {
   "cell_type": "code",
   "execution_count": null,
   "metadata": {
    "_kg_hide-input": true,
    "execution": {
     "iopub.execute_input": "2022-01-14T17:02:07.3117Z",
     "iopub.status.busy": "2022-01-14T17:02:07.310891Z",
     "iopub.status.idle": "2022-01-14T17:02:07.391735Z",
     "shell.execute_reply": "2022-01-14T17:02:07.390805Z",
     "shell.execute_reply.started": "2022-01-14T17:02:07.311658Z"
    }
   },
   "outputs": [],
   "source": [
    "drama_movies = _[_.genres.str.contains('Drama')].sort_values('weightedAverage', ascending=False).set_index('title')\n",
    "fig = px.bar(drama_movies, x=drama_movies['weightedAverage'].nlargest(15).index,\n",
    "             y=drama_movies['weightedAverage'].nlargest(15),\n",
    "             text=drama_movies['weightedAverage'].nlargest(15),\n",
    "             labels={\n",
    "                 \"x\": \"Movies\",\n",
    "                 'y': 'Weighted Rating Averages'},\n",
    "             color=drama_movies['weightedAverage'].nlargest(15)\n",
    "             )\n",
    "fig.update_traces(textposition='outside')\n",
    "fig.update_layout(title_text='Top 15 Drama Movies with the largest Weighted Averages',\n",
    "                  title_x=0.5, title_font=dict(size=24))\n",
    "fig.update_traces(marker=dict(line=dict(color='#000000', width=2)))\n",
    "fig.update_layout({'plot_bgcolor': 'rgba(0, 0, 0, 0)'})\n",
    "fig.show()"
   ]
  },
  {
   "cell_type": "markdown",
   "metadata": {},
   "source": [
    "# Top 15 Drama Movies with the smallest Weighted Averages\n"
   ]
  },
  {
   "cell_type": "code",
   "execution_count": null,
   "metadata": {
    "_kg_hide-input": true,
    "execution": {
     "iopub.execute_input": "2022-01-14T17:02:07.393897Z",
     "iopub.status.busy": "2022-01-14T17:02:07.393064Z",
     "iopub.status.idle": "2022-01-14T17:02:07.611421Z",
     "shell.execute_reply": "2022-01-14T17:02:07.610597Z",
     "shell.execute_reply.started": "2022-01-14T17:02:07.393851Z"
    }
   },
   "outputs": [],
   "source": [
    "drama_movies = _[_.genres.str.contains('Drama')].sort_values('weightedAverage', ascending=False).set_index('title')\n",
    "fig = px.bar(drama_movies, x=drama_movies['weightedAverage'].nsmallest(15).index,\n",
    "             y=drama_movies['weightedAverage'].nsmallest(15),\n",
    "             text=drama_movies['weightedAverage'].nsmallest(15),\n",
    "             labels={\n",
    "                 \"x\": \"Movies\",\n",
    "                 'y': 'Weighted Rating Averages'},\n",
    "             color=drama_movies['weightedAverage'].nsmallest(15)\n",
    "             )\n",
    "fig.update_traces(textposition='outside')\n",
    "fig.update_layout(title_text='Top 15 Drama Movies with the smallest Weighted Averages',\n",
    "                  title_x=0.5, title_font=dict(size=24))\n",
    "fig.update_traces(marker=dict(line=dict(color='#000000', width=2)))\n",
    "fig.update_layout({'plot_bgcolor': 'rgba(0, 0, 0, 0)'})\n",
    "fig.show()"
   ]
  },
  {
   "cell_type": "markdown",
   "metadata": {},
   "source": [
    "# Top 15 Action Movies with the largest Weighted Averages"
   ]
  },
  {
   "cell_type": "code",
   "execution_count": null,
   "metadata": {
    "_kg_hide-input": true,
    "execution": {
     "iopub.execute_input": "2022-01-14T17:02:07.613506Z",
     "iopub.status.busy": "2022-01-14T17:02:07.612705Z",
     "iopub.status.idle": "2022-01-14T17:02:07.693583Z",
     "shell.execute_reply": "2022-01-14T17:02:07.692756Z",
     "shell.execute_reply.started": "2022-01-14T17:02:07.613464Z"
    }
   },
   "outputs": [],
   "source": [
    "action_movies = _[_.genres.str.contains('Action')].sort_values('weightedAverage', ascending=False).set_index('title')\n",
    "fig = px.bar(action_movies, x=action_movies['weightedAverage'].nlargest(15).index,\n",
    "             y=action_movies['weightedAverage'].nlargest(15),\n",
    "             text=action_movies['weightedAverage'].nlargest(15),\n",
    "             labels={\n",
    "                 \"x\": \"Movies\",\n",
    "                 'y': 'Weighted Rating Averages'},\n",
    "             color=action_movies['weightedAverage'].nlargest(15)\n",
    "             )\n",
    "fig.update_traces(textposition='outside')\n",
    "fig.update_layout(title_text='Top 15 Action Movies with the largest Weighted Averages',\n",
    "                  title_x=0.5, title_font=dict(size=24))\n",
    "fig.update_traces(marker=dict(line=dict(color='#000000', width=2)))\n",
    "fig.update_layout({'plot_bgcolor': 'rgba(0, 0, 0, 0)'})\n",
    "fig.show()"
   ]
  },
  {
   "cell_type": "markdown",
   "metadata": {},
   "source": [
    "# Top 15 Action Movies with the smallest Weighted Averages"
   ]
  },
  {
   "cell_type": "code",
   "execution_count": null,
   "metadata": {
    "_kg_hide-input": true,
    "execution": {
     "iopub.execute_input": "2022-01-14T17:02:07.695541Z",
     "iopub.status.busy": "2022-01-14T17:02:07.695077Z",
     "iopub.status.idle": "2022-01-14T17:02:07.777057Z",
     "shell.execute_reply": "2022-01-14T17:02:07.776487Z",
     "shell.execute_reply.started": "2022-01-14T17:02:07.6955Z"
    }
   },
   "outputs": [],
   "source": [
    "action_movies = _[_.genres.str.contains('Action')].sort_values('weightedAverage', ascending=False).set_index('title')\n",
    "fig = px.bar(action_movies, x=action_movies['weightedAverage'].nsmallest(15).index,\n",
    "             y=action_movies['weightedAverage'].nsmallest(15),\n",
    "             text=action_movies['weightedAverage'].nsmallest(15),\n",
    "             labels={\n",
    "                 \"x\": \"Movies\",\n",
    "                 'y': 'Weighted Rating Averages'},\n",
    "             color=action_movies['weightedAverage'].nsmallest(15)\n",
    "             )\n",
    "fig.update_traces(textposition='outside')\n",
    "fig.update_layout(title_text='Top 15 Action Movies with the smallest Weighted Averages',\n",
    "                  title_x=0.5, title_font=dict(size=24))\n",
    "fig.update_traces(marker=dict(line=dict(color='#000000', width=2)))\n",
    "fig.update_layout({'plot_bgcolor': 'rgba(0, 0, 0, 0)'})\n",
    "fig.show()"
   ]
  },
  {
   "cell_type": "markdown",
   "metadata": {},
   "source": [
    "# Top 15 Sci-Fi Movies with the largest Weighted Averages"
   ]
  },
  {
   "cell_type": "code",
   "execution_count": null,
   "metadata": {
    "_kg_hide-input": true,
    "execution": {
     "iopub.execute_input": "2022-01-14T17:02:07.778399Z",
     "iopub.status.busy": "2022-01-14T17:02:07.77809Z",
     "iopub.status.idle": "2022-01-14T17:02:07.86113Z",
     "shell.execute_reply": "2022-01-14T17:02:07.860278Z",
     "shell.execute_reply.started": "2022-01-14T17:02:07.778373Z"
    }
   },
   "outputs": [],
   "source": [
    "sci_fi_movies = _[_.genres.str.contains('Sci-Fi')].sort_values('weightedAverage', ascending=False).set_index('title')\n",
    "fig = px.bar(sci_fi_movies, x=sci_fi_movies['weightedAverage'].nlargest(15).index,\n",
    "             y=sci_fi_movies['weightedAverage'].nlargest(15),\n",
    "             text=sci_fi_movies['weightedAverage'].nlargest(15),\n",
    "             labels={\n",
    "                 \"x\": \"Movies\",\n",
    "                 'y': 'Weighted Rating Averages'},\n",
    "             color=sci_fi_movies['weightedAverage'].nlargest(15)\n",
    "             )\n",
    "fig.update_traces(textposition='outside')\n",
    "fig.update_layout(title_text='Top 15 Sci-Fi Movies with the largest Weighted Averages',\n",
    "                  title_x=0.5, title_font=dict(size=24))\n",
    "fig.update_traces(marker=dict(line=dict(color='#000000', width=2)))\n",
    "fig.update_layout({'plot_bgcolor': 'rgba(0, 0, 0, 0)'})\n",
    "fig.show()"
   ]
  },
  {
   "cell_type": "markdown",
   "metadata": {},
   "source": [
    "# Top 15 Sci-Fi Movies with the smallest Weighted Averages"
   ]
  },
  {
   "cell_type": "code",
   "execution_count": null,
   "metadata": {
    "_kg_hide-input": true,
    "execution": {
     "iopub.execute_input": "2022-01-14T17:02:07.862965Z",
     "iopub.status.busy": "2022-01-14T17:02:07.862557Z",
     "iopub.status.idle": "2022-01-14T17:02:07.946739Z",
     "shell.execute_reply": "2022-01-14T17:02:07.94577Z",
     "shell.execute_reply.started": "2022-01-14T17:02:07.862906Z"
    }
   },
   "outputs": [],
   "source": [
    "sci_fi_movies = _[_.genres.str.contains('Sci-Fi')].sort_values('weightedAverage', ascending=False).set_index('title')\n",
    "fig = px.bar(sci_fi_movies, x=sci_fi_movies['weightedAverage'].nsmallest(15).index,\n",
    "             y=sci_fi_movies['weightedAverage'].nsmallest(15),\n",
    "             text=sci_fi_movies['weightedAverage'].nsmallest(15),\n",
    "             labels={\n",
    "                 \"x\": \"Movies\",\n",
    "                 'y': 'Weighted Rating Averages'},\n",
    "             color=sci_fi_movies['weightedAverage'].nsmallest(15)\n",
    "             )\n",
    "fig.update_traces(textposition='outside')\n",
    "fig.update_layout(title_text='Top 15 Sci-Fi Movies with the smallest Weighted Averages',\n",
    "                  title_x=0.5, title_font=dict(size=24))\n",
    "fig.update_traces(marker=dict(line=dict(color='#000000', width=2)))\n",
    "fig.update_layout({'plot_bgcolor': 'rgba(0, 0, 0, 0)'})\n",
    "fig.show()"
   ]
  },
  {
   "cell_type": "markdown",
   "metadata": {},
   "source": [
    "# Apriori Algorithm Application for Movie Recommendation Dataset"
   ]
  },
  {
   "cell_type": "code",
   "execution_count": null,
   "metadata": {
    "execution": {
     "iopub.execute_input": "2022-01-14T17:02:07.948334Z",
     "iopub.status.busy": "2022-01-14T17:02:07.948037Z",
     "iopub.status.idle": "2022-01-14T17:02:07.974758Z",
     "shell.execute_reply": "2022-01-14T17:02:07.973944Z",
     "shell.execute_reply.started": "2022-01-14T17:02:07.948295Z"
    }
   },
   "outputs": [],
   "source": [
    "# Created a (movieId: title) dictionary for all movieId's for replacing them with their names\n",
    "movieId_dict = data.drop_duplicates('title')[['movieId', 'title']].set_index('movieId').to_dict()['title']\n",
    "\n",
    "# First 5 elements of this dictionary\n",
    "list(movieId_dict.items())[:5]"
   ]
  },
  {
   "cell_type": "code",
   "execution_count": null,
   "metadata": {
    "execution": {
     "iopub.execute_input": "2022-01-14T17:02:07.976152Z",
     "iopub.status.busy": "2022-01-14T17:02:07.975892Z",
     "iopub.status.idle": "2022-01-14T17:02:08.066907Z",
     "shell.execute_reply": "2022-01-14T17:02:08.066019Z",
     "shell.execute_reply.started": "2022-01-14T17:02:07.976112Z"
    }
   },
   "outputs": [],
   "source": [
    "# Creating a pivot table that has indexes as user ratings, and columns as each movie title\n",
    "dataRecommendation = data.pivot(index='userId', columns='movieId', values='rating').fillna(0)\n",
    "\n",
    "# Replacing dataRecommendation columns with the movie titles\n",
    "dataRecommendation.columns = dataRecommendation.columns.map(movieId_dict)\n",
    "\n",
    "dataRecommendation.head(10)"
   ]
  },
  {
   "cell_type": "code",
   "execution_count": null,
   "metadata": {
    "execution": {
     "iopub.execute_input": "2022-01-14T17:02:08.068345Z",
     "iopub.status.busy": "2022-01-14T17:02:08.068087Z",
     "iopub.status.idle": "2022-01-14T17:02:09.529514Z",
     "shell.execute_reply": "2022-01-14T17:02:09.528544Z",
     "shell.execute_reply.started": "2022-01-14T17:02:08.068317Z"
    }
   },
   "outputs": [],
   "source": [
    "def encode_units(k):\n",
    "    if k <= 0:\n",
    "        return 0\n",
    "    if k >= 1:\n",
    "        return 1\n",
    "\n",
    "\n",
    "sets = dataRecommendation.applymap(encode_units)\n",
    "sets.head()"
   ]
  },
  {
   "cell_type": "code",
   "execution_count": null,
   "metadata": {
    "execution": {
     "iopub.execute_input": "2022-01-14T17:10:30.102229Z",
     "iopub.status.busy": "2022-01-14T17:10:30.101931Z",
     "iopub.status.idle": "2022-01-14T17:10:31.112046Z",
     "shell.execute_reply": "2022-01-14T17:10:31.111224Z",
     "shell.execute_reply.started": "2022-01-14T17:10:30.1022Z"
    }
   },
   "outputs": [],
   "source": [
    "# Applying Apriori algorithm to matrix that we created before (userId-movieId) and setting min support as 0.15\n",
    "frequent_itemsets = apriori(sets, min_support=0.15, use_colnames=True)\n",
    "\n",
    "rules = association_rules(frequent_itemsets, metric=\"lift\", min_threshold=1.75).sort_values('lift', ascending=False)\n",
    "\n",
    "rules = rules[['antecedents', 'consequents', 'support', 'lift', 'confidence']]\n",
    "rules.head()"
   ]
  },
  {
   "cell_type": "markdown",
   "metadata": {},
   "source": [
    "# Some Examples of Apriori Rules "
   ]
  },
  {
   "cell_type": "code",
   "execution_count": null,
   "metadata": {
    "execution": {
     "iopub.execute_input": "2022-01-14T17:10:34.223396Z",
     "iopub.status.busy": "2022-01-14T17:10:34.223096Z",
     "iopub.status.idle": "2022-01-14T17:10:34.231657Z",
     "shell.execute_reply": "2022-01-14T17:10:34.230663Z",
     "shell.execute_reply.started": "2022-01-14T17:10:34.223365Z"
    }
   },
   "outputs": [],
   "source": [
    "i = random.randint(0, rules.shape[0])\n",
    "print('Antecedents:', rules.iloc[i].antecedents)\n",
    "print('Consequents:', rules.iloc[i].consequents)\n",
    "print(f'Lift: {rules.iloc[i].lift.round(3)} & Confidence: {rules.iloc[i].confidence.round(3)}')"
   ]
  },
  {
   "cell_type": "code",
   "execution_count": null,
   "metadata": {
    "execution": {
     "iopub.execute_input": "2022-01-14T17:12:35.297073Z",
     "iopub.status.busy": "2022-01-14T17:12:35.296706Z",
     "iopub.status.idle": "2022-01-14T17:12:35.305766Z",
     "shell.execute_reply": "2022-01-14T17:12:35.304732Z",
     "shell.execute_reply.started": "2022-01-14T17:12:35.297038Z"
    }
   },
   "outputs": [],
   "source": [
    "i = random.randint(0, rules.shape[0])\n",
    "print('Antecedents:', rules.iloc[i].antecedents)\n",
    "print('Consequents:', rules.iloc[i].consequents)\n",
    "print(f'Lift: {rules.iloc[i].lift.round(3)} & Confidence: {rules.iloc[i].confidence.round(3)} & Support: {rules.iloc[i].support.round(3)}')"
   ]
  },
  {
   "cell_type": "code",
   "execution_count": null,
   "metadata": {
    "execution": {
     "iopub.execute_input": "2022-01-14T17:13:17.210477Z",
     "iopub.status.busy": "2022-01-14T17:13:17.209694Z",
     "iopub.status.idle": "2022-01-14T17:13:17.218893Z",
     "shell.execute_reply": "2022-01-14T17:13:17.218331Z",
     "shell.execute_reply.started": "2022-01-14T17:13:17.210435Z"
    }
   },
   "outputs": [],
   "source": [
    "i = random.randint(0, rules.shape[0])\n",
    "print('Antecedents:', rules.iloc[i].antecedents)\n",
    "print('Consequents:', rules.iloc[i].consequents)\n",
    "print(f'Lift: {rules.iloc[i].lift.round(3)} & Confidence: {rules.iloc[i].confidence.round(3)} & Support: {rules.iloc[i].support.round(3)}')"
   ]
  },
  {
   "cell_type": "code",
   "execution_count": null,
   "metadata": {
    "execution": {
     "iopub.execute_input": "2022-01-14T17:16:06.235896Z",
     "iopub.status.busy": "2022-01-14T17:16:06.23553Z",
     "iopub.status.idle": "2022-01-14T17:16:06.246766Z",
     "shell.execute_reply": "2022-01-14T17:16:06.246044Z",
     "shell.execute_reply.started": "2022-01-14T17:16:06.235864Z"
    }
   },
   "outputs": [],
   "source": [
    "i = random.randint(0, rules.shape[0])\n",
    "print('Antecedents:', rules.iloc[i].antecedents)\n",
    "print('Consequents:', rules.iloc[i].consequents)\n",
    "print(f'Lift: {rules.iloc[i].lift.round(3)} & Confidence: {rules.iloc[i].confidence.round(3)} & Support: {rules.iloc[i].support.round(3)}')"
   ]
  },
  {
   "cell_type": "markdown",
   "metadata": {},
   "source": [
    "# Let's Build Item-Based Collaborative Filtering Recommendation Engine"
   ]
  },
  {
   "cell_type": "code",
   "execution_count": null,
   "metadata": {
    "execution": {
     "iopub.execute_input": "2022-01-14T17:23:20.949914Z",
     "iopub.status.busy": "2022-01-14T17:23:20.949601Z",
     "iopub.status.idle": "2022-01-14T17:23:20.95971Z",
     "shell.execute_reply": "2022-01-14T17:23:20.958566Z",
     "shell.execute_reply.started": "2022-01-14T17:23:20.949884Z"
    }
   },
   "outputs": [],
   "source": [
    "# I will use NearestNeighbors algorithm that I learnt from the scikit-learn documentation here\n",
    "knn = NearestNeighbors(n_neighbors=11, metric='cosine', algorithm='brute', n_jobs=-1)\n",
    "knn.fit(dataRecommendation.values.T)"
   ]
  },
  {
   "cell_type": "code",
   "execution_count": null,
   "metadata": {
    "execution": {
     "iopub.execute_input": "2022-01-14T17:25:34.498839Z",
     "iopub.status.busy": "2022-01-14T17:25:34.498468Z",
     "iopub.status.idle": "2022-01-14T17:25:34.619775Z",
     "shell.execute_reply": "2022-01-14T17:25:34.618569Z",
     "shell.execute_reply.started": "2022-01-14T17:25:34.498803Z"
    }
   },
   "outputs": [],
   "source": [
    "# Here is our recommendations for Blade Runner, there will be 7 movie recommendations\n",
    "recommendation_result = list(knn.kneighbors([dataRecommendation['Blade Runner'].values], 8))\n",
    "\n",
    "recommendation_result  # As you can see from the results, we obtained cosine angles in the first array, and the second array gives us the dataRecommendation column order, I need to convert it to more readable form"
   ]
  },
  {
   "cell_type": "code",
   "execution_count": null,
   "metadata": {
    "execution": {
     "iopub.execute_input": "2022-01-14T17:27:30.187284Z",
     "iopub.status.busy": "2022-01-14T17:27:30.186867Z",
     "iopub.status.idle": "2022-01-14T17:27:30.203991Z",
     "shell.execute_reply": "2022-01-14T17:27:30.202971Z",
     "shell.execute_reply.started": "2022-01-14T17:27:30.187246Z"
    }
   },
   "outputs": [],
   "source": [
    "recommendations = pd.DataFrame(np.vstack((recommendation_result[1], recommendation_result[0])),\n",
    "                 index=['movieId', 'Cosine_Similarity (degree)']).T\n",
    "recommendations = recommendations.drop([0]).reset_index(drop=True)\n",
    "recommendations  # In this step, I created a dataframe that stores the movieId (for dataRecommendation column order) and Cosine Similarity in degrees"
   ]
  },
  {
   "cell_type": "code",
   "execution_count": null,
   "metadata": {
    "execution": {
     "iopub.execute_input": "2022-01-14T17:27:49.857095Z",
     "iopub.status.busy": "2022-01-14T17:27:49.856687Z",
     "iopub.status.idle": "2022-01-14T17:27:49.881003Z",
     "shell.execute_reply": "2022-01-14T17:27:49.879695Z",
     "shell.execute_reply.started": "2022-01-14T17:27:49.857055Z"
    }
   },
   "outputs": [],
   "source": [
    "a = dataRecommendation.columns.to_frame().reset_index(drop=True).to_dict()['movieId']\n",
    "recommendations.movieId = recommendations.movieId.map(a)\n",
    "recommendations"
   ]
  },
  {
   "cell_type": "markdown",
   "metadata": {},
   "source": [
    "# Some Movie Recommendations"
   ]
  },
  {
   "cell_type": "code",
   "execution_count": null,
   "metadata": {
    "_kg_hide-input": true,
    "execution": {
     "iopub.execute_input": "2022-01-14T17:39:01.104948Z",
     "iopub.status.busy": "2022-01-14T17:39:01.104318Z",
     "iopub.status.idle": "2022-01-14T17:39:01.113468Z",
     "shell.execute_reply": "2022-01-14T17:39:01.112597Z",
     "shell.execute_reply.started": "2022-01-14T17:39:01.1049Z"
    }
   },
   "outputs": [],
   "source": [
    "# Movie Recommendation as Function\n",
    "\n",
    "def movie_recommendation(movie_name, num_of_recommendations):\n",
    "    a = dataRecommendation.columns.to_frame().reset_index(drop=True).to_dict()['movieId']\n",
    "    recommendation_result = list(knn.kneighbors([dataRecommendation[movie_name].values], num_of_recommendations + 1))\n",
    "    recommendation_result = pd.DataFrame(np.vstack((recommendation_result[1], recommendation_result[0])),\n",
    "                                         index=['movieId', 'Cosine_Similarity (degree)']).T\n",
    "    recommendation_result = recommendation_result.drop([0]).reset_index(drop=True)\n",
    "    recommendation_result.movieId = recommendation_result.movieId.map(a)\n",
    "    return recommendation_result"
   ]
  },
  {
   "cell_type": "code",
   "execution_count": null,
   "metadata": {
    "execution": {
     "iopub.execute_input": "2022-01-14T17:39:03.756674Z",
     "iopub.status.busy": "2022-01-14T17:39:03.756144Z",
     "iopub.status.idle": "2022-01-14T17:39:03.891389Z",
     "shell.execute_reply": "2022-01-14T17:39:03.890391Z",
     "shell.execute_reply.started": "2022-01-14T17:39:03.756638Z"
    }
   },
   "outputs": [],
   "source": [
    "movie_recommendation('Amazing Spider-Man, The', 7)"
   ]
  },
  {
   "cell_type": "code",
   "execution_count": null,
   "metadata": {
    "execution": {
     "iopub.execute_input": "2022-01-14T17:37:46.414928Z",
     "iopub.status.busy": "2022-01-14T17:37:46.414589Z",
     "iopub.status.idle": "2022-01-14T17:37:46.55358Z",
     "shell.execute_reply": "2022-01-14T17:37:46.552363Z",
     "shell.execute_reply.started": "2022-01-14T17:37:46.414895Z"
    }
   },
   "outputs": [],
   "source": [
    "movie_recommendation('Mulan', 7)"
   ]
  },
  {
   "cell_type": "code",
   "execution_count": null,
   "metadata": {
    "execution": {
     "iopub.execute_input": "2022-01-14T17:38:12.382979Z",
     "iopub.status.busy": "2022-01-14T17:38:12.382639Z",
     "iopub.status.idle": "2022-01-14T17:38:12.514969Z",
     "shell.execute_reply": "2022-01-14T17:38:12.51404Z",
     "shell.execute_reply.started": "2022-01-14T17:38:12.382931Z"
    }
   },
   "outputs": [],
   "source": [
    "movie_recommendation('Final Destination', 7)"
   ]
  },
  {
   "cell_type": "code",
   "execution_count": null,
   "metadata": {
    "execution": {
     "iopub.execute_input": "2022-01-14T17:38:32.585215Z",
     "iopub.status.busy": "2022-01-14T17:38:32.584395Z",
     "iopub.status.idle": "2022-01-14T17:38:32.722469Z",
     "shell.execute_reply": "2022-01-14T17:38:32.721489Z",
     "shell.execute_reply.started": "2022-01-14T17:38:32.585164Z"
    }
   },
   "outputs": [],
   "source": [
    "movie_recommendation('Shining, The', 7)"
   ]
  },
  {
   "cell_type": "code",
   "execution_count": null,
   "metadata": {
    "execution": {
     "iopub.execute_input": "2022-01-14T17:40:03.418051Z",
     "iopub.status.busy": "2022-01-14T17:40:03.416939Z",
     "iopub.status.idle": "2022-01-14T17:40:03.552007Z",
     "shell.execute_reply": "2022-01-14T17:40:03.551047Z",
     "shell.execute_reply.started": "2022-01-14T17:40:03.417999Z"
    }
   },
   "outputs": [],
   "source": [
    "movie_recommendation('Pulp Fiction', 7)"
   ]
  },
  {
   "cell_type": "code",
   "execution_count": null,
   "metadata": {
    "execution": {
     "iopub.execute_input": "2022-01-14T17:41:18.191389Z",
     "iopub.status.busy": "2022-01-14T17:41:18.19021Z",
     "iopub.status.idle": "2022-01-14T17:41:18.326604Z",
     "shell.execute_reply": "2022-01-14T17:41:18.32565Z",
     "shell.execute_reply.started": "2022-01-14T17:41:18.191337Z"
    }
   },
   "outputs": [],
   "source": [
    "movie_recommendation(\"Reservoir Dogs\", 7)"
   ]
  },
  {
   "cell_type": "code",
   "execution_count": null,
   "metadata": {
    "execution": {
     "iopub.execute_input": "2022-01-14T17:41:35.18145Z",
     "iopub.status.busy": "2022-01-14T17:41:35.180821Z",
     "iopub.status.idle": "2022-01-14T17:41:35.313887Z",
     "shell.execute_reply": "2022-01-14T17:41:35.312877Z",
     "shell.execute_reply.started": "2022-01-14T17:41:35.181399Z"
    }
   },
   "outputs": [],
   "source": [
    "movie_recommendation('Batman Returns', 7)"
   ]
  },
  {
   "cell_type": "code",
   "execution_count": null,
   "metadata": {
    "execution": {
     "iopub.execute_input": "2022-01-14T17:41:57.286172Z",
     "iopub.status.busy": "2022-01-14T17:41:57.285442Z",
     "iopub.status.idle": "2022-01-14T17:41:57.421225Z",
     "shell.execute_reply": "2022-01-14T17:41:57.420137Z",
     "shell.execute_reply.started": "2022-01-14T17:41:57.286119Z"
    }
   },
   "outputs": [],
   "source": [
    "movie_recommendation('Logan', 7)"
   ]
  },
  {
   "cell_type": "code",
   "execution_count": null,
   "metadata": {
    "execution": {
     "iopub.execute_input": "2022-01-14T17:42:46.886722Z",
     "iopub.status.busy": "2022-01-14T17:42:46.885731Z",
     "iopub.status.idle": "2022-01-14T17:42:47.022311Z",
     "shell.execute_reply": "2022-01-14T17:42:47.021315Z",
     "shell.execute_reply.started": "2022-01-14T17:42:46.886675Z"
    }
   },
   "outputs": [],
   "source": [
    "movie_recommendation('Matrix, The', 7)"
   ]
  },
  {
   "cell_type": "code",
   "execution_count": null,
   "metadata": {
    "execution": {
     "iopub.execute_input": "2022-01-14T17:43:12.611175Z",
     "iopub.status.busy": "2022-01-14T17:43:12.610518Z",
     "iopub.status.idle": "2022-01-14T17:43:12.747709Z",
     "shell.execute_reply": "2022-01-14T17:43:12.746624Z",
     "shell.execute_reply.started": "2022-01-14T17:43:12.611135Z"
    }
   },
   "outputs": [],
   "source": [
    "movie_recommendation('Casablanca', 7)"
   ]
  },
  {
   "cell_type": "code",
   "execution_count": null,
   "metadata": {
    "execution": {
     "iopub.execute_input": "2022-01-14T17:43:48.806785Z",
     "iopub.status.busy": "2022-01-14T17:43:48.806471Z",
     "iopub.status.idle": "2022-01-14T17:43:48.941769Z",
     "shell.execute_reply": "2022-01-14T17:43:48.940696Z",
     "shell.execute_reply.started": "2022-01-14T17:43:48.80675Z"
    }
   },
   "outputs": [],
   "source": [
    "movie_recommendation(\"Harry Potter and the Sorcerer's Stone\", 7)"
   ]
  },
  {
   "cell_type": "code",
   "execution_count": null,
   "metadata": {
    "execution": {
     "iopub.execute_input": "2022-01-14T17:44:08.974686Z",
     "iopub.status.busy": "2022-01-14T17:44:08.973536Z",
     "iopub.status.idle": "2022-01-14T17:44:09.106995Z",
     "shell.execute_reply": "2022-01-14T17:44:09.106032Z",
     "shell.execute_reply.started": "2022-01-14T17:44:08.974631Z"
    }
   },
   "outputs": [],
   "source": [
    "movie_recommendation('Rain Man', 7)"
   ]
  },
  {
   "cell_type": "markdown",
   "metadata": {},
   "source": [
    "# Thanks!"
   ]
  }
 ],
 "metadata": {
  "kernelspec": {
   "display_name": "Python 3 (ipykernel)",
   "language": "python",
   "name": "python3"
  },
  "language_info": {
   "codemirror_mode": {
    "name": "ipython",
    "version": 3
   },
   "file_extension": ".py",
   "mimetype": "text/x-python",
   "name": "python",
   "nbconvert_exporter": "python",
   "pygments_lexer": "ipython3",
   "version": "3.9.12"
  }
 },
 "nbformat": 4,
 "nbformat_minor": 4
}
